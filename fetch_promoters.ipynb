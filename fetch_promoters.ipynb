{
 "cells": [
  {
   "cell_type": "markdown",
   "id": "306bd813-f60f-4440-9e54-ec9b75a671c4",
   "metadata": {},
   "source": [
    "# "
   ]
  },
  {
   "cell_type": "code",
   "execution_count": 1,
   "id": "7d2bc958-268a-4800-b9da-a18961969314",
   "metadata": {},
   "outputs": [
    {
     "data": {
      "application/vnd.jupyter.widget-view+json": {
       "model_id": "ed78bdea79234d338a2085d4853c2cee",
       "version_major": 2,
       "version_minor": 0
      },
      "text/plain": [
       "Checkbox(value=False, description='Ввести вручную', indent=False)"
      ]
     },
     "metadata": {},
     "output_type": "display_data"
    },
    {
     "data": {
      "application/vnd.jupyter.widget-view+json": {
       "model_id": "536397096210405d8f013a4c0b2d9e11",
       "version_major": 2,
       "version_minor": 0
      },
      "text/plain": [
       "Dropdown(description='Ген:', options=('CGA', 'FSHB', 'FSHR', 'GNRH1', 'GNRHR', 'FOXL2', 'NR5A1', 'PITX1', 'LHX…"
      ]
     },
     "metadata": {},
     "output_type": "display_data"
    },
    {
     "data": {
      "application/vnd.jupyter.widget-view+json": {
       "model_id": "de149a0686714a01b3991c58b5794403",
       "version_major": 2,
       "version_minor": 0
      },
      "text/plain": [
       "Text(value='', description='Ген:', layout=Layout(display='none', width='250px'), placeholder='Введите название…"
      ]
     },
     "metadata": {},
     "output_type": "display_data"
    },
    {
     "data": {
      "application/vnd.jupyter.widget-view+json": {
       "model_id": "e914eae62e2c4bc8ad8d11f1d8dc915f",
       "version_major": 2,
       "version_minor": 0
      },
      "text/plain": [
       "HTML(value=\"<div style='height:15px'></div>\")"
      ]
     },
     "metadata": {},
     "output_type": "display_data"
    },
    {
     "data": {
      "application/vnd.jupyter.widget-view+json": {
       "model_id": "6dc825e963da4ee9b1e06bb47261f7cf",
       "version_major": 2,
       "version_minor": 0
      },
      "text/plain": [
       "Button(description='Запустить анализ', layout=Layout(margin='10px 0 20px 0', width='200px'), style=ButtonStyle…"
      ]
     },
     "metadata": {},
     "output_type": "display_data"
    },
    {
     "data": {
      "application/vnd.jupyter.widget-view+json": {
       "model_id": "5e09830fa59048b58051179f5a395ef6",
       "version_major": 2,
       "version_minor": 0
      },
      "text/plain": [
       "Output()"
      ]
     },
     "metadata": {},
     "output_type": "display_data"
    }
   ],
   "source": [
    "import requests\n",
    "import time\n",
    "import matplotlib.pyplot as plt\n",
    "import subprocess\n",
    "import tempfile\n",
    "import shutil\n",
    "import os\n",
    "\n",
    "import ipywidgets as widgets\n",
    "from IPython.display import display, clear_output\n",
    "\n",
    "# ======== Настройки ======== \n",
    "ENSEMBL_REST = \"https://rest.ensembl.org\"\n",
    "HEADERS = {\"Content-Type\": \"application/json\"}\n",
    "AVAILABLE_GENES = [\n",
    "    \"CGA\", \"FSHB\", \"FSHR\", \"GNRH1\", \"GNRHR\", \"FOXL2\", \"NR5A1\", \"PITX1\", \"LHX3\",\n",
    "    \"INHBA\", \"INHBB\", \"ACVR1B\", \"SMAD2\", \"SMAD3\", \"SMAD4\", \"INHA\", \"FST\", \"GNAS\",\n",
    "    \"ADCY3\", \"PRKAR2B\", \"CREB1\", \"CYP19A1\", \"AMH\", \"ESR1\", \"ESR2\", \"LHCGR\", \"SOX9\",\n",
    "    \"CLDN11\", \"INSL3\", \"TGFBR1\", \"TGFBR2\", \"BMP2\", \"BMP4\"\n",
    "]\n",
    "SPECIES = {\"human\": \"homo_sapiens\", \"mouse\": \"mus_musculus\"}\n",
    "UPSTREAM = 1000\n",
    "PWM_PATH = r\"C:\\Users\\ПК\\Desktop\\Project\\data\\motifs\\pwm.meme\"\n",
    "\n",
    "#  ======== Функции ========\n",
    "def get_gene_coordinates(gene_name, species):\n",
    "    url = f\"{ENSEMBL_REST}/lookup/symbol/{species}/{gene_name}?expand=1\"\n",
    "    res = requests.get(url, headers=HEADERS)\n",
    "    if not res.ok:\n",
    "        return None\n",
    "    data = res.json()\n",
    "    return {\n",
    "        \"seq_region_name\": data[\"seq_region_name\"],\n",
    "        \"start\": data[\"start\"],\n",
    "        \"strand\": data[\"strand\"]\n",
    "    }\n",
    "\n",
    "def get_promoter_sequence(gene_name, species):\n",
    "    coords = get_gene_coordinates(gene_name, species)\n",
    "    if not coords:\n",
    "        return None\n",
    "    if coords[\"strand\"] == 1:\n",
    "        region = f\"{coords['seq_region_name']}:{coords['start'] - UPSTREAM}..{coords['start'] - 1}:1\"\n",
    "    else:\n",
    "        region = f\"{coords['seq_region_name']}:{coords['start']}..{coords['start'] + UPSTREAM - 1}:-1\"\n",
    "    url = f\"{ENSEMBL_REST}/sequence/region/{species}/{region}\"\n",
    "    res = requests.get(url, headers={\"Content-Type\": \"text/plain\"})\n",
    "    if not res.ok:\n",
    "        return None\n",
    "    return res.text\n",
    "\n",
    "def fimo_predict(sequence, pwm_path=\"pwm.meme\"):\n",
    "    with tempfile.TemporaryDirectory() as tmpdir:\n",
    "        fasta_path = os.path.join(tmpdir, \"input.fasta\")\n",
    "        pwm_target = os.path.join(tmpdir, \"pwm.meme\")\n",
    "        output_dir = os.path.join(tmpdir, \"fimo_out\")\n",
    "\n",
    "        with open(fasta_path, \"w\") as f:\n",
    "            f.write(\">query_sequence\\n\")\n",
    "            f.write(sequence.replace(\"\\n\", \"\") + \"\\n\")\n",
    "\n",
    "        shutil.copyfile(pwm_path, pwm_target)\n",
    "\n",
    "        try:\n",
    "            subprocess.run([\n",
    "                \"docker\", \"run\", \"--rm\",\n",
    "                \"-v\", f\"{tmpdir}:/data\",\n",
    "                \"memesuite/memesuite\",\n",
    "                \"fimo\",\n",
    "                \"--thresh\", \"1\",\n",
    "                \"--oc\", \"/data/fimo_out\",\n",
    "                \"/data/pwm.meme\",\n",
    "                \"/data/input.fasta\"\n",
    "            ], check=True)\n",
    "\n",
    "            fimo_result = os.path.join(output_dir, \"fimo.tsv\")\n",
    "            if not os.path.exists(fimo_result):\n",
    "                return {}\n",
    "\n",
    "            tf_scores = {}\n",
    "            with open(fimo_result) as f:\n",
    "                for line in f:\n",
    "                    if line.startswith(\"#\") or \"sequence_name\" in line:\n",
    "                        continue\n",
    "                    parts = line.strip().split(\"\\t\")\n",
    "                    if len(parts) >= 9:\n",
    "                        motif_id = parts[0]\n",
    "                        score = float(parts[6])\n",
    "                        tf_scores[motif_id] = max(tf_scores.get(motif_id, 0), score)\n",
    "            return tf_scores\n",
    "\n",
    "        except subprocess.CalledProcessError:\n",
    "            return {}\n",
    "\n",
    "def compare_predictions(human_preds, mouse_preds):\n",
    "    all_tfs = set(human_preds.keys()) | set(mouse_preds.keys())\n",
    "    diff = {tf: abs(human_preds.get(tf, 0) - mouse_preds.get(tf, 0)) for tf in all_tfs}\n",
    "    return dict(sorted(diff.items(), key=lambda x: x[1], reverse=True))\n",
    "\n",
    "def parse_pwm_names(pwm_path):\n",
    "    id_to_name = {}\n",
    "    with open(pwm_path, \"r\") as f:\n",
    "        for line in f:\n",
    "            if line.startswith(\"MOTIF\"):\n",
    "                parts = line.strip().split()\n",
    "                if len(parts) >= 3:\n",
    "                    motif_id = parts[1]\n",
    "                    tf_name = parts[2]\n",
    "                    id_to_name[motif_id] = tf_name\n",
    "    return id_to_name\n",
    "\n",
    "def plot_tf_differences(differences, id_to_name=None):\n",
    "    tfs = list(differences.keys())[:10]\n",
    "    values = [differences[tf] for tf in tfs]\n",
    "    labels = [id_to_name.get(tf, tf) for tf in tfs] if id_to_name else tfs\n",
    "    plt.figure(figsize=(10, 5))\n",
    "    plt.bar(labels, values, color='purple')\n",
    "    plt.title(\"TF-различия между человеком и мышью\")\n",
    "    plt.ylabel(\"|human - mouse| score\")\n",
    "    plt.xticks(rotation=45)\n",
    "    plt.tight_layout()\n",
    "    plt.show()\n",
    "\n",
    "# ======== Интерфейс ========\n",
    "use_custom_gene = widgets.Checkbox(\n",
    "    value=False,\n",
    "    description=\"Ввести вручную\",\n",
    "    indent=False\n",
    ")\n",
    "\n",
    "gene_dropdown = widgets.Dropdown(\n",
    "    options=AVAILABLE_GENES,\n",
    "    description=\"Ген:\"\n",
    ")\n",
    "\n",
    "gene_text = widgets.Text(\n",
    "    placeholder=\"Введите название гена\",\n",
    "    description=\"Ген:\",\n",
    "    disabled=False,\n",
    "    layout=widgets.Layout(width='250px')\n",
    ")\n",
    "gene_text.layout.display = 'none'  \n",
    "\n",
    "def toggle_gene_input(change):\n",
    "    if change['new']:\n",
    "        gene_dropdown.layout.display = 'none'\n",
    "        gene_text.layout.display = ''\n",
    "    else:\n",
    "        gene_dropdown.layout.display = ''\n",
    "        gene_text.layout.display = 'none'\n",
    "\n",
    "use_custom_gene.observe(toggle_gene_input, names='value')\n",
    "\n",
    "run_button = widgets.Button(\n",
    "    description=\"Запустить анализ\",\n",
    "    style={'button_color': '#A9A9A9'},\n",
    "    layout=widgets.Layout(width='200px')\n",
    ")\n",
    "run_button.layout = widgets.Layout(margin='10px 0 20px 0', width='200px')\n",
    "\n",
    "spacer = widgets.HTML(value=\"<div style='height:15px'></div>\")\n",
    "\n",
    "output = widgets.Output()\n",
    "\n",
    "# ======== Функция запуска анализа ========\n",
    "def on_run_clicked(b):\n",
    "    output.clear_output()\n",
    "    with output:\n",
    "        gene = gene_text.value.strip() if use_custom_gene.value else gene_dropdown.value\n",
    "        if not gene:\n",
    "            print(\"Пожалуйста, введите название гена.\")\n",
    "            return\n",
    "\n",
    "        print(f\"Анализ гена {gene}...\")\n",
    "        id_to_name = parse_pwm_names(PWM_PATH)\n",
    "\n",
    "        print(\"Загрузка последовательностей...\")\n",
    "        seq_human = get_promoter_sequence(gene, SPECIES[\"human\"])\n",
    "        time.sleep(0.2)\n",
    "        seq_mouse = get_promoter_sequence(gene, SPECIES[\"mouse\"])\n",
    "        time.sleep(0.2)\n",
    "\n",
    "        if not seq_human or not seq_mouse:\n",
    "            print(\"Ошибка получения промоторных последовательностей.\")\n",
    "            return\n",
    "\n",
    "        print(\"Предсказание связывания TF...\")\n",
    "        preds_human = fimo_predict(seq_human, pwm_path=PWM_PATH)\n",
    "        preds_mouse = fimo_predict(seq_mouse, pwm_path=PWM_PATH)\n",
    "\n",
    "        print(\"Сравнение паттернов...\")\n",
    "        differences = compare_predictions(preds_human, preds_mouse)\n",
    "\n",
    "        print(\"Топ-3 TF с наибольшими различиями:\")\n",
    "        top_diffs = list(differences.items())[:10]\n",
    "        for tf, diff in top_diffs[:3]:\n",
    "            name = id_to_name.get(tf, tf)\n",
    "            print(f\"  {name} ({tf}): |Δ| = {diff:.2f}\")\n",
    "\n",
    "        plot_tf_differences(differences, id_to_name)\n",
    "\n",
    "        print(\"\\nСравнение скоров для топ-10 TF:\")\n",
    "        print(\"{:<20} {:>10} {:>10} {:>10}\".format(\"TF\", \"Human\", \"Mouse\", \"|Δ|\"))\n",
    "        print(\"-\" * 52)\n",
    "        for tf, diff in top_diffs:\n",
    "            name = id_to_name.get(tf, tf)\n",
    "            h_score = preds_human.get(tf, 0)\n",
    "            m_score = preds_mouse.get(tf, 0)\n",
    "            print(\"{:<20} {:>10.2f} {:>10.2f} {:>10.2f}\".format(name, h_score, m_score, diff))\n",
    "\n",
    "run_button.on_click(on_run_clicked)\n",
    "\n",
    "display(use_custom_gene, gene_dropdown, gene_text, spacer, run_button, output)\n"
   ]
  },
  {
   "cell_type": "code",
   "execution_count": null,
   "id": "43dc715c-b76b-490c-a6f3-8314d46f3a00",
   "metadata": {},
   "outputs": [],
   "source": []
  }
 ],
 "metadata": {
  "kernelspec": {
   "display_name": "Python 3 (ipykernel)",
   "language": "python",
   "name": "python3"
  },
  "language_info": {
   "codemirror_mode": {
    "name": "ipython",
    "version": 3
   },
   "file_extension": ".py",
   "mimetype": "text/x-python",
   "name": "python",
   "nbconvert_exporter": "python",
   "pygments_lexer": "ipython3",
   "version": "3.12.10"
  }
 },
 "nbformat": 4,
 "nbformat_minor": 5
}
